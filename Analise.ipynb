{
  "nbformat": 4,
  "nbformat_minor": 0,
  "metadata": {
    "kernelspec": {
      "display_name": "Python 3",
      "language": "python",
      "name": "python3"
    },
    "language_info": {
      "codemirror_mode": {
        "name": "ipython",
        "version": 3
      },
      "file_extension": ".py",
      "mimetype": "text/x-python",
      "name": "python",
      "nbconvert_exporter": "python",
      "pygments_lexer": "ipython3",
      "version": "3.7.6"
    },
    "colab": {
      "name": "Analise.ipynb",
      "provenance": [],
      "collapsed_sections": []
    }
  },
  "cells": [
    {
      "cell_type": "code",
      "metadata": {
        "id": "5YAIkAB3jgdR"
      },
      "source": [
        "import pandas as pd\n",
        "import matplotlib.pyplot as plt\n",
        "%matplotlib inline"
      ],
      "execution_count": 160,
      "outputs": []
    },
    {
      "cell_type": "code",
      "metadata": {
        "id": "5qZqgdlwjgdS"
      },
      "source": [
        "# importa arquivo externo contendo dados para o report\n",
        "RAW = pd.read_excel(\"AdventureWorks.xlsx\")"
      ],
      "execution_count": 161,
      "outputs": []
    },
    {
      "cell_type": "code",
      "metadata": {
        "colab": {
          "base_uri": "https://localhost:8080/",
          "height": 586
        },
        "id": "qYCRxlHjjgdT",
        "outputId": "037c205a-2bfb-49e0-d988-5fb183aff516"
      },
      "source": [
        "# faz copia do dataframe pandas e inspeciona dados\n",
        "df = RAW\n",
        "df.head(6)"
      ],
      "execution_count": 162,
      "outputs": [
        {
          "output_type": "execute_result",
          "data": {
            "text/html": [
              "<div>\n",
              "<style scoped>\n",
              "    .dataframe tbody tr th:only-of-type {\n",
              "        vertical-align: middle;\n",
              "    }\n",
              "\n",
              "    .dataframe tbody tr th {\n",
              "        vertical-align: top;\n",
              "    }\n",
              "\n",
              "    .dataframe thead th {\n",
              "        text-align: right;\n",
              "    }\n",
              "</style>\n",
              "<table border=\"1\" class=\"dataframe\">\n",
              "  <thead>\n",
              "    <tr style=\"text-align: right;\">\n",
              "      <th></th>\n",
              "      <th>Data Venda</th>\n",
              "      <th>Data Envio</th>\n",
              "      <th>ID Loja</th>\n",
              "      <th>ID Produto</th>\n",
              "      <th>ID Cliente</th>\n",
              "      <th>No. Venda</th>\n",
              "      <th>Custo Unitário</th>\n",
              "      <th>Preço Unitário</th>\n",
              "      <th>Quantidade</th>\n",
              "      <th>Valor Desconto</th>\n",
              "      <th>Valor Venda</th>\n",
              "      <th>Produto</th>\n",
              "      <th>Fabricante</th>\n",
              "      <th>Marca</th>\n",
              "      <th>Classe</th>\n",
              "      <th>Cor</th>\n",
              "    </tr>\n",
              "  </thead>\n",
              "  <tbody>\n",
              "    <tr>\n",
              "      <th>0</th>\n",
              "      <td>2008-05-09</td>\n",
              "      <td>2008-05-29</td>\n",
              "      <td>199</td>\n",
              "      <td>384</td>\n",
              "      <td>18839</td>\n",
              "      <td>200805093CS607</td>\n",
              "      <td>348.58</td>\n",
              "      <td>758.0</td>\n",
              "      <td>6</td>\n",
              "      <td>0.0</td>\n",
              "      <td>4548.0</td>\n",
              "      <td>Adventure Works Laptop15.4W M1548 Red</td>\n",
              "      <td>Adventure Works</td>\n",
              "      <td>Adventure Works</td>\n",
              "      <td>Regular</td>\n",
              "      <td>Red</td>\n",
              "    </tr>\n",
              "    <tr>\n",
              "      <th>1</th>\n",
              "      <td>2008-05-12</td>\n",
              "      <td>2008-05-17</td>\n",
              "      <td>306</td>\n",
              "      <td>384</td>\n",
              "      <td>19051</td>\n",
              "      <td>200805123CS567</td>\n",
              "      <td>348.58</td>\n",
              "      <td>758.0</td>\n",
              "      <td>6</td>\n",
              "      <td>0.0</td>\n",
              "      <td>4548.0</td>\n",
              "      <td>Adventure Works Laptop15.4W M1548 Red</td>\n",
              "      <td>Adventure Works</td>\n",
              "      <td>Adventure Works</td>\n",
              "      <td>Regular</td>\n",
              "      <td>Red</td>\n",
              "    </tr>\n",
              "    <tr>\n",
              "      <th>2</th>\n",
              "      <td>2008-05-14</td>\n",
              "      <td>2008-05-20</td>\n",
              "      <td>306</td>\n",
              "      <td>384</td>\n",
              "      <td>19052</td>\n",
              "      <td>200805143CS576</td>\n",
              "      <td>348.58</td>\n",
              "      <td>758.0</td>\n",
              "      <td>6</td>\n",
              "      <td>0.0</td>\n",
              "      <td>4548.0</td>\n",
              "      <td>Adventure Works Laptop15.4W M1548 Red</td>\n",
              "      <td>Adventure Works</td>\n",
              "      <td>Adventure Works</td>\n",
              "      <td>Regular</td>\n",
              "      <td>Red</td>\n",
              "    </tr>\n",
              "    <tr>\n",
              "      <th>3</th>\n",
              "      <td>2008-05-21</td>\n",
              "      <td>2008-05-27</td>\n",
              "      <td>306</td>\n",
              "      <td>384</td>\n",
              "      <td>19052</td>\n",
              "      <td>200805213CS576</td>\n",
              "      <td>348.58</td>\n",
              "      <td>758.0</td>\n",
              "      <td>6</td>\n",
              "      <td>0.0</td>\n",
              "      <td>4548.0</td>\n",
              "      <td>Adventure Works Laptop15.4W M1548 Red</td>\n",
              "      <td>Adventure Works</td>\n",
              "      <td>Adventure Works</td>\n",
              "      <td>Regular</td>\n",
              "      <td>Red</td>\n",
              "    </tr>\n",
              "    <tr>\n",
              "      <th>4</th>\n",
              "      <td>2008-06-20</td>\n",
              "      <td>2008-06-27</td>\n",
              "      <td>306</td>\n",
              "      <td>384</td>\n",
              "      <td>19053</td>\n",
              "      <td>200806203CS586</td>\n",
              "      <td>348.58</td>\n",
              "      <td>758.0</td>\n",
              "      <td>6</td>\n",
              "      <td>0.0</td>\n",
              "      <td>4548.0</td>\n",
              "      <td>Adventure Works Laptop15.4W M1548 Red</td>\n",
              "      <td>Adventure Works</td>\n",
              "      <td>Adventure Works</td>\n",
              "      <td>Regular</td>\n",
              "      <td>Red</td>\n",
              "    </tr>\n",
              "    <tr>\n",
              "      <th>5</th>\n",
              "      <td>2008-07-12</td>\n",
              "      <td>2008-07-20</td>\n",
              "      <td>306</td>\n",
              "      <td>384</td>\n",
              "      <td>19054</td>\n",
              "      <td>200807123CS588</td>\n",
              "      <td>348.58</td>\n",
              "      <td>758.0</td>\n",
              "      <td>6</td>\n",
              "      <td>0.0</td>\n",
              "      <td>4548.0</td>\n",
              "      <td>Adventure Works Laptop15.4W M1548 Red</td>\n",
              "      <td>Adventure Works</td>\n",
              "      <td>Adventure Works</td>\n",
              "      <td>Regular</td>\n",
              "      <td>Red</td>\n",
              "    </tr>\n",
              "  </tbody>\n",
              "</table>\n",
              "</div>"
            ],
            "text/plain": [
              "  Data Venda Data Envio  ID Loja  ...            Marca   Classe  Cor\n",
              "0 2008-05-09 2008-05-29      199  ...  Adventure Works  Regular  Red\n",
              "1 2008-05-12 2008-05-17      306  ...  Adventure Works  Regular  Red\n",
              "2 2008-05-14 2008-05-20      306  ...  Adventure Works  Regular  Red\n",
              "3 2008-05-21 2008-05-27      306  ...  Adventure Works  Regular  Red\n",
              "4 2008-06-20 2008-06-27      306  ...  Adventure Works  Regular  Red\n",
              "5 2008-07-12 2008-07-20      306  ...  Adventure Works  Regular  Red\n",
              "\n",
              "[6 rows x 16 columns]"
            ]
          },
          "metadata": {},
          "execution_count": 162
        }
      ]
    },
    {
      "cell_type": "code",
      "metadata": {
        "colab": {
          "base_uri": "https://localhost:8080/"
        },
        "id": "GJijTYAyjgdU",
        "outputId": "c57fcfeb-76cb-423b-d972-3e316a6de66e"
      },
      "source": [
        "# quantidade de linhas e colunas\n",
        "df.shape"
      ],
      "execution_count": 163,
      "outputs": [
        {
          "output_type": "execute_result",
          "data": {
            "text/plain": [
              "(904, 16)"
            ]
          },
          "metadata": {},
          "execution_count": 163
        }
      ]
    },
    {
      "cell_type": "code",
      "metadata": {
        "colab": {
          "base_uri": "https://localhost:8080/"
        },
        "id": "jWCedCJpjgdU",
        "outputId": "a8106ce9-515e-424f-db9b-bb132c207f6c"
      },
      "source": [
        "# tipo dos dados\n",
        "df.dtypes"
      ],
      "execution_count": 164,
      "outputs": [
        {
          "output_type": "execute_result",
          "data": {
            "text/plain": [
              "Data Venda        datetime64[ns]\n",
              "Data Envio        datetime64[ns]\n",
              "ID Loja                    int64\n",
              "ID Produto                 int64\n",
              "ID Cliente                 int64\n",
              "No. Venda                 object\n",
              "Custo Unitário           float64\n",
              "Preço Unitário           float64\n",
              "Quantidade                 int64\n",
              "Valor Desconto           float64\n",
              "Valor Venda              float64\n",
              "Produto                   object\n",
              "Fabricante                object\n",
              "Marca                     object\n",
              "Classe                    object\n",
              "Cor                       object\n",
              "dtype: object"
            ]
          },
          "metadata": {},
          "execution_count": 164
        }
      ]
    },
    {
      "cell_type": "code",
      "metadata": {
        "colab": {
          "base_uri": "https://localhost:8080/"
        },
        "id": "6PKiPj-jjgdU",
        "outputId": "c429ff97-d2c9-4913-f9fc-ecebcdbba77c"
      },
      "source": [
        "# conta valores null ou NA\n",
        "df.isna().sum()"
      ],
      "execution_count": 165,
      "outputs": [
        {
          "output_type": "execute_result",
          "data": {
            "text/plain": [
              "Data Venda        0\n",
              "Data Envio        0\n",
              "ID Loja           0\n",
              "ID Produto        0\n",
              "ID Cliente        0\n",
              "No. Venda         0\n",
              "Custo Unitário    0\n",
              "Preço Unitário    0\n",
              "Quantidade        0\n",
              "Valor Desconto    0\n",
              "Valor Venda       0\n",
              "Produto           0\n",
              "Fabricante        0\n",
              "Marca             0\n",
              "Classe            0\n",
              "Cor               0\n",
              "dtype: int64"
            ]
          },
          "metadata": {},
          "execution_count": 165
        }
      ]
    },
    {
      "cell_type": "code",
      "metadata": {
        "colab": {
          "base_uri": "https://localhost:8080/",
          "height": 589
        },
        "id": "shGpWYTKjgdV",
        "outputId": "55fd0a43-4a27-44e8-936f-32781e66d8f1"
      },
      "source": [
        "# arredonda tipos float para 2 casas decimais e inspeciona dados\n",
        "df[\"Custo Unitário\"] = (df[\"Custo Unitário\"]).round(2)\n",
        "df[\"Preço Unitário\"] = (df[\"Preço Unitário\"]).round(2)\n",
        "df[\"Valor Desconto\"] = (df[\"Valor Desconto\"]).round(2)\n",
        "df[\"Valor Venda\"] = (df[\"Valor Venda\"]).round(2)\n",
        "df.sample(5)"
      ],
      "execution_count": 166,
      "outputs": [
        {
          "output_type": "execute_result",
          "data": {
            "text/html": [
              "<div>\n",
              "<style scoped>\n",
              "    .dataframe tbody tr th:only-of-type {\n",
              "        vertical-align: middle;\n",
              "    }\n",
              "\n",
              "    .dataframe tbody tr th {\n",
              "        vertical-align: top;\n",
              "    }\n",
              "\n",
              "    .dataframe thead th {\n",
              "        text-align: right;\n",
              "    }\n",
              "</style>\n",
              "<table border=\"1\" class=\"dataframe\">\n",
              "  <thead>\n",
              "    <tr style=\"text-align: right;\">\n",
              "      <th></th>\n",
              "      <th>Data Venda</th>\n",
              "      <th>Data Envio</th>\n",
              "      <th>ID Loja</th>\n",
              "      <th>ID Produto</th>\n",
              "      <th>ID Cliente</th>\n",
              "      <th>No. Venda</th>\n",
              "      <th>Custo Unitário</th>\n",
              "      <th>Preço Unitário</th>\n",
              "      <th>Quantidade</th>\n",
              "      <th>Valor Desconto</th>\n",
              "      <th>Valor Venda</th>\n",
              "      <th>Produto</th>\n",
              "      <th>Fabricante</th>\n",
              "      <th>Marca</th>\n",
              "      <th>Classe</th>\n",
              "      <th>Cor</th>\n",
              "    </tr>\n",
              "  </thead>\n",
              "  <tbody>\n",
              "    <tr>\n",
              "      <th>102</th>\n",
              "      <td>2008-06-22</td>\n",
              "      <td>2008-07-04</td>\n",
              "      <td>199</td>\n",
              "      <td>1226</td>\n",
              "      <td>18848</td>\n",
              "      <td>200806224CS620</td>\n",
              "      <td>330.99</td>\n",
              "      <td>999.0</td>\n",
              "      <td>6</td>\n",
              "      <td>0.0</td>\n",
              "      <td>5994.0</td>\n",
              "      <td>Fabrikam Trendsetter 1/3'' 8.5mm X200 Black</td>\n",
              "      <td>Fabrikam, Inc.</td>\n",
              "      <td>Fabrikam</td>\n",
              "      <td>Regular</td>\n",
              "      <td>Black</td>\n",
              "    </tr>\n",
              "    <tr>\n",
              "      <th>111</th>\n",
              "      <td>2008-10-25</td>\n",
              "      <td>2008-10-30</td>\n",
              "      <td>199</td>\n",
              "      <td>1155</td>\n",
              "      <td>18881</td>\n",
              "      <td>200810254CS786</td>\n",
              "      <td>324.69</td>\n",
              "      <td>980.0</td>\n",
              "      <td>6</td>\n",
              "      <td>0.0</td>\n",
              "      <td>5880.0</td>\n",
              "      <td>Fabrikam Trendsetter 2/3'' 17mm X100 Black</td>\n",
              "      <td>Fabrikam, Inc.</td>\n",
              "      <td>Fabrikam</td>\n",
              "      <td>Regular</td>\n",
              "      <td>Black</td>\n",
              "    </tr>\n",
              "    <tr>\n",
              "      <th>181</th>\n",
              "      <td>2009-05-05</td>\n",
              "      <td>2009-05-18</td>\n",
              "      <td>199</td>\n",
              "      <td>1178</td>\n",
              "      <td>18939</td>\n",
              "      <td>200905054CS848</td>\n",
              "      <td>330.66</td>\n",
              "      <td>998.0</td>\n",
              "      <td>12</td>\n",
              "      <td>0.0</td>\n",
              "      <td>11976.0</td>\n",
              "      <td>Fabrikam Trendsetter 1/3'' 8.5mm X200 White</td>\n",
              "      <td>Fabrikam, Inc.</td>\n",
              "      <td>Fabrikam</td>\n",
              "      <td>Regular</td>\n",
              "      <td>White</td>\n",
              "    </tr>\n",
              "    <tr>\n",
              "      <th>502</th>\n",
              "      <td>2008-06-09</td>\n",
              "      <td>2008-06-13</td>\n",
              "      <td>307</td>\n",
              "      <td>1155</td>\n",
              "      <td>19100</td>\n",
              "      <td>200806094CS596</td>\n",
              "      <td>324.69</td>\n",
              "      <td>980.0</td>\n",
              "      <td>7</td>\n",
              "      <td>686.0</td>\n",
              "      <td>6174.0</td>\n",
              "      <td>Fabrikam Trendsetter 2/3'' 17mm X100 Black</td>\n",
              "      <td>Fabrikam, Inc.</td>\n",
              "      <td>Fabrikam</td>\n",
              "      <td>Regular</td>\n",
              "      <td>Black</td>\n",
              "    </tr>\n",
              "    <tr>\n",
              "      <th>417</th>\n",
              "      <td>2008-12-18</td>\n",
              "      <td>2008-12-23</td>\n",
              "      <td>307</td>\n",
              "      <td>1178</td>\n",
              "      <td>19111</td>\n",
              "      <td>200812184CS669</td>\n",
              "      <td>330.66</td>\n",
              "      <td>998.0</td>\n",
              "      <td>9</td>\n",
              "      <td>1347.3</td>\n",
              "      <td>7634.7</td>\n",
              "      <td>Fabrikam Trendsetter 1/3'' 8.5mm X200 White</td>\n",
              "      <td>Fabrikam, Inc.</td>\n",
              "      <td>Fabrikam</td>\n",
              "      <td>Regular</td>\n",
              "      <td>White</td>\n",
              "    </tr>\n",
              "  </tbody>\n",
              "</table>\n",
              "</div>"
            ],
            "text/plain": [
              "    Data Venda Data Envio  ID Loja  ...     Marca   Classe    Cor\n",
              "102 2008-06-22 2008-07-04      199  ...  Fabrikam  Regular  Black\n",
              "111 2008-10-25 2008-10-30      199  ...  Fabrikam  Regular  Black\n",
              "181 2009-05-05 2009-05-18      199  ...  Fabrikam  Regular  White\n",
              "502 2008-06-09 2008-06-13      307  ...  Fabrikam  Regular  Black\n",
              "417 2008-12-18 2008-12-23      307  ...  Fabrikam  Regular  White\n",
              "\n",
              "[5 rows x 16 columns]"
            ]
          },
          "metadata": {},
          "execution_count": 166
        }
      ]
    },
    {
      "cell_type": "code",
      "metadata": {
        "colab": {
          "base_uri": "https://localhost:8080/"
        },
        "id": "wo6v3xVscN9k",
        "outputId": "60c4fafa-efe2-4c27-ad62-ff957b292ac2"
      },
      "source": [
        "# verifica o intervalo dos dados de vendas\n",
        "pd.unique(df[\"Data Venda\"].dt.year)"
      ],
      "execution_count": 167,
      "outputs": [
        {
          "output_type": "execute_result",
          "data": {
            "text/plain": [
              "array([2008, 2009])"
            ]
          },
          "metadata": {},
          "execution_count": 167
        }
      ]
    },
    {
      "cell_type": "markdown",
      "metadata": {
        "id": "2E9zSW-r16HG"
      },
      "source": [
        "Obseva-se que a coluna \"No. Venda\" não representa um ID de venda único.\n",
        "Abaixo foi explorado alguns desses registros **negrito**\n"
      ]
    },
    {
      "cell_type": "code",
      "metadata": {
        "colab": {
          "base_uri": "https://localhost:8080/"
        },
        "id": "03sSn3l9jgdV",
        "outputId": "53dbf564-b0db-479f-f541-fedf2cf4ca88"
      },
      "source": [
        "# verifica se há duplicados no número da venda\n",
        "pd.unique(df[\"No. Venda\"]).shape"
      ],
      "execution_count": 168,
      "outputs": [
        {
          "output_type": "execute_result",
          "data": {
            "text/plain": [
              "(821,)"
            ]
          },
          "metadata": {},
          "execution_count": 168
        }
      ]
    },
    {
      "cell_type": "code",
      "metadata": {
        "id": "zW6v6JFrjgdW"
      },
      "source": [
        "#cria dataframe cujo \"No. Venda\" não é único, porém só insere novos valores a partir da segunda entrada repetida.\n",
        "#em uma ambiente de produção, para validação, seria necessário confirmar que cada \"No. Venda\" venda repetida corresponde ao mesmo \"ID Cliente\".\n",
        "df_dupli = df.loc[df.duplicated(subset=['No. Venda']) == True]"
      ],
      "execution_count": 169,
      "outputs": []
    },
    {
      "cell_type": "code",
      "metadata": {
        "colab": {
          "base_uri": "https://localhost:8080/"
        },
        "id": "oIhDF3fljgdW",
        "outputId": "f699f470-0cfa-4103-e7e3-01fa68f8aade"
      },
      "source": [
        "# inspeciona os valores repetidos, sabendo que não representa o total não único\n",
        "df_dupli.shape"
      ],
      "execution_count": 170,
      "outputs": [
        {
          "output_type": "execute_result",
          "data": {
            "text/plain": [
              "(83, 16)"
            ]
          },
          "metadata": {},
          "execution_count": 170
        }
      ]
    },
    {
      "cell_type": "code",
      "metadata": {
        "colab": {
          "base_uri": "https://localhost:8080/",
          "height": 520
        },
        "id": "Kn264r1-jgdX",
        "outputId": "25ffd29e-5a0c-4ba7-9fa9-ea3ed8b99acb"
      },
      "source": [
        "df_dupli.sample(5)"
      ],
      "execution_count": 171,
      "outputs": [
        {
          "output_type": "execute_result",
          "data": {
            "text/html": [
              "<div>\n",
              "<style scoped>\n",
              "    .dataframe tbody tr th:only-of-type {\n",
              "        vertical-align: middle;\n",
              "    }\n",
              "\n",
              "    .dataframe tbody tr th {\n",
              "        vertical-align: top;\n",
              "    }\n",
              "\n",
              "    .dataframe thead th {\n",
              "        text-align: right;\n",
              "    }\n",
              "</style>\n",
              "<table border=\"1\" class=\"dataframe\">\n",
              "  <thead>\n",
              "    <tr style=\"text-align: right;\">\n",
              "      <th></th>\n",
              "      <th>Data Venda</th>\n",
              "      <th>Data Envio</th>\n",
              "      <th>ID Loja</th>\n",
              "      <th>ID Produto</th>\n",
              "      <th>ID Cliente</th>\n",
              "      <th>No. Venda</th>\n",
              "      <th>Custo Unitário</th>\n",
              "      <th>Preço Unitário</th>\n",
              "      <th>Quantidade</th>\n",
              "      <th>Valor Desconto</th>\n",
              "      <th>Valor Venda</th>\n",
              "      <th>Produto</th>\n",
              "      <th>Fabricante</th>\n",
              "      <th>Marca</th>\n",
              "      <th>Classe</th>\n",
              "      <th>Cor</th>\n",
              "    </tr>\n",
              "  </thead>\n",
              "  <tbody>\n",
              "    <tr>\n",
              "      <th>131</th>\n",
              "      <td>2008-05-14</td>\n",
              "      <td>2008-05-20</td>\n",
              "      <td>306</td>\n",
              "      <td>366</td>\n",
              "      <td>19052</td>\n",
              "      <td>200805143CS576</td>\n",
              "      <td>348.58</td>\n",
              "      <td>758.00</td>\n",
              "      <td>6</td>\n",
              "      <td>0.00</td>\n",
              "      <td>4548.00</td>\n",
              "      <td>Adventure Works Laptop15.4W M1548 Black</td>\n",
              "      <td>Adventure Works</td>\n",
              "      <td>Adventure Works</td>\n",
              "      <td>Regular</td>\n",
              "      <td>Black</td>\n",
              "    </tr>\n",
              "    <tr>\n",
              "      <th>743</th>\n",
              "      <td>2008-09-22</td>\n",
              "      <td>2008-10-03</td>\n",
              "      <td>306</td>\n",
              "      <td>2497</td>\n",
              "      <td>19057</td>\n",
              "      <td>200809225CS636</td>\n",
              "      <td>5.09</td>\n",
              "      <td>9.99</td>\n",
              "      <td>108</td>\n",
              "      <td>107.89</td>\n",
              "      <td>971.03</td>\n",
              "      <td>Headphone Adapter for Contoso Phone E130 White</td>\n",
              "      <td>Contoso, Ltd</td>\n",
              "      <td>Contoso</td>\n",
              "      <td>Economy</td>\n",
              "      <td>White</td>\n",
              "    </tr>\n",
              "    <tr>\n",
              "      <th>858</th>\n",
              "      <td>2009-03-05</td>\n",
              "      <td>2009-03-09</td>\n",
              "      <td>199</td>\n",
              "      <td>1178</td>\n",
              "      <td>18920</td>\n",
              "      <td>200903054CS828</td>\n",
              "      <td>330.66</td>\n",
              "      <td>998.00</td>\n",
              "      <td>6</td>\n",
              "      <td>299.40</td>\n",
              "      <td>5688.60</td>\n",
              "      <td>Fabrikam Trendsetter 1/3'' 8.5mm X200 White</td>\n",
              "      <td>Fabrikam, Inc.</td>\n",
              "      <td>Fabrikam</td>\n",
              "      <td>Regular</td>\n",
              "      <td>White</td>\n",
              "    </tr>\n",
              "    <tr>\n",
              "      <th>662</th>\n",
              "      <td>2008-12-12</td>\n",
              "      <td>2008-12-16</td>\n",
              "      <td>306</td>\n",
              "      <td>1202</td>\n",
              "      <td>19060</td>\n",
              "      <td>200812124CS676</td>\n",
              "      <td>330.66</td>\n",
              "      <td>998.00</td>\n",
              "      <td>5</td>\n",
              "      <td>998.00</td>\n",
              "      <td>3992.00</td>\n",
              "      <td>Fabrikam Trendsetter 1/3'' 8.5mm X200 Grey</td>\n",
              "      <td>Fabrikam, Inc.</td>\n",
              "      <td>Fabrikam</td>\n",
              "      <td>Regular</td>\n",
              "      <td>Grey</td>\n",
              "    </tr>\n",
              "    <tr>\n",
              "      <th>845</th>\n",
              "      <td>2008-01-04</td>\n",
              "      <td>2008-01-14</td>\n",
              "      <td>306</td>\n",
              "      <td>1203</td>\n",
              "      <td>19046</td>\n",
              "      <td>200801044CS525</td>\n",
              "      <td>324.69</td>\n",
              "      <td>980.00</td>\n",
              "      <td>6</td>\n",
              "      <td>1176.00</td>\n",
              "      <td>4704.00</td>\n",
              "      <td>Fabrikam Trendsetter 2/3'' 17mm X100 Grey</td>\n",
              "      <td>Fabrikam, Inc.</td>\n",
              "      <td>Fabrikam</td>\n",
              "      <td>Regular</td>\n",
              "      <td>Grey</td>\n",
              "    </tr>\n",
              "  </tbody>\n",
              "</table>\n",
              "</div>"
            ],
            "text/plain": [
              "    Data Venda Data Envio  ID Loja  ...            Marca   Classe    Cor\n",
              "131 2008-05-14 2008-05-20      306  ...  Adventure Works  Regular  Black\n",
              "743 2008-09-22 2008-10-03      306  ...          Contoso  Economy  White\n",
              "858 2009-03-05 2009-03-09      199  ...         Fabrikam  Regular  White\n",
              "662 2008-12-12 2008-12-16      306  ...         Fabrikam  Regular   Grey\n",
              "845 2008-01-04 2008-01-14      306  ...         Fabrikam  Regular   Grey\n",
              "\n",
              "[5 rows x 16 columns]"
            ]
          },
          "metadata": {},
          "execution_count": 171
        }
      ]
    },
    {
      "cell_type": "code",
      "metadata": {
        "colab": {
          "base_uri": "https://localhost:8080/",
          "height": 554
        },
        "id": "5uS8d4z8jgdX",
        "outputId": "93230ff0-6afc-49cc-9f16-2693ac8bdb2f"
      },
      "source": [
        "# ordena e inspeciona mais elementos\n",
        "df_dupli.sort_values(by=['No. Venda']).head()"
      ],
      "execution_count": 172,
      "outputs": [
        {
          "output_type": "execute_result",
          "data": {
            "text/html": [
              "<div>\n",
              "<style scoped>\n",
              "    .dataframe tbody tr th:only-of-type {\n",
              "        vertical-align: middle;\n",
              "    }\n",
              "\n",
              "    .dataframe tbody tr th {\n",
              "        vertical-align: top;\n",
              "    }\n",
              "\n",
              "    .dataframe thead th {\n",
              "        text-align: right;\n",
              "    }\n",
              "</style>\n",
              "<table border=\"1\" class=\"dataframe\">\n",
              "  <thead>\n",
              "    <tr style=\"text-align: right;\">\n",
              "      <th></th>\n",
              "      <th>Data Venda</th>\n",
              "      <th>Data Envio</th>\n",
              "      <th>ID Loja</th>\n",
              "      <th>ID Produto</th>\n",
              "      <th>ID Cliente</th>\n",
              "      <th>No. Venda</th>\n",
              "      <th>Custo Unitário</th>\n",
              "      <th>Preço Unitário</th>\n",
              "      <th>Quantidade</th>\n",
              "      <th>Valor Desconto</th>\n",
              "      <th>Valor Venda</th>\n",
              "      <th>Produto</th>\n",
              "      <th>Fabricante</th>\n",
              "      <th>Marca</th>\n",
              "      <th>Classe</th>\n",
              "      <th>Cor</th>\n",
              "    </tr>\n",
              "  </thead>\n",
              "  <tbody>\n",
              "    <tr>\n",
              "      <th>599</th>\n",
              "      <td>2008-01-02</td>\n",
              "      <td>2008-01-12</td>\n",
              "      <td>306</td>\n",
              "      <td>1155</td>\n",
              "      <td>19046</td>\n",
              "      <td>200801024CS525</td>\n",
              "      <td>324.69</td>\n",
              "      <td>980.0</td>\n",
              "      <td>8</td>\n",
              "      <td>1568.0</td>\n",
              "      <td>6272.0</td>\n",
              "      <td>Fabrikam Trendsetter 2/3'' 17mm X100 Black</td>\n",
              "      <td>Fabrikam, Inc.</td>\n",
              "      <td>Fabrikam</td>\n",
              "      <td>Regular</td>\n",
              "      <td>Black</td>\n",
              "    </tr>\n",
              "    <tr>\n",
              "      <th>573</th>\n",
              "      <td>2008-01-04</td>\n",
              "      <td>2008-01-14</td>\n",
              "      <td>306</td>\n",
              "      <td>1178</td>\n",
              "      <td>19046</td>\n",
              "      <td>200801044CS525</td>\n",
              "      <td>330.66</td>\n",
              "      <td>998.0</td>\n",
              "      <td>8</td>\n",
              "      <td>1596.8</td>\n",
              "      <td>6387.2</td>\n",
              "      <td>Fabrikam Trendsetter 1/3'' 8.5mm X200 White</td>\n",
              "      <td>Fabrikam, Inc.</td>\n",
              "      <td>Fabrikam</td>\n",
              "      <td>Regular</td>\n",
              "      <td>White</td>\n",
              "    </tr>\n",
              "    <tr>\n",
              "      <th>845</th>\n",
              "      <td>2008-01-04</td>\n",
              "      <td>2008-01-14</td>\n",
              "      <td>306</td>\n",
              "      <td>1203</td>\n",
              "      <td>19046</td>\n",
              "      <td>200801044CS525</td>\n",
              "      <td>324.69</td>\n",
              "      <td>980.0</td>\n",
              "      <td>6</td>\n",
              "      <td>1176.0</td>\n",
              "      <td>4704.0</td>\n",
              "      <td>Fabrikam Trendsetter 2/3'' 17mm X100 Grey</td>\n",
              "      <td>Fabrikam, Inc.</td>\n",
              "      <td>Fabrikam</td>\n",
              "      <td>Regular</td>\n",
              "      <td>Grey</td>\n",
              "    </tr>\n",
              "    <tr>\n",
              "      <th>554</th>\n",
              "      <td>2008-01-12</td>\n",
              "      <td>2008-01-22</td>\n",
              "      <td>306</td>\n",
              "      <td>1203</td>\n",
              "      <td>19046</td>\n",
              "      <td>200801124CS525</td>\n",
              "      <td>324.69</td>\n",
              "      <td>980.0</td>\n",
              "      <td>4</td>\n",
              "      <td>784.0</td>\n",
              "      <td>3136.0</td>\n",
              "      <td>Fabrikam Trendsetter 2/3'' 17mm X100 Grey</td>\n",
              "      <td>Fabrikam, Inc.</td>\n",
              "      <td>Fabrikam</td>\n",
              "      <td>Regular</td>\n",
              "      <td>Grey</td>\n",
              "    </tr>\n",
              "    <tr>\n",
              "      <th>655</th>\n",
              "      <td>2008-01-20</td>\n",
              "      <td>2008-01-30</td>\n",
              "      <td>199</td>\n",
              "      <td>1202</td>\n",
              "      <td>18816</td>\n",
              "      <td>200801204CS560</td>\n",
              "      <td>330.66</td>\n",
              "      <td>998.0</td>\n",
              "      <td>5</td>\n",
              "      <td>249.5</td>\n",
              "      <td>4740.5</td>\n",
              "      <td>Fabrikam Trendsetter 1/3'' 8.5mm X200 Grey</td>\n",
              "      <td>Fabrikam, Inc.</td>\n",
              "      <td>Fabrikam</td>\n",
              "      <td>Regular</td>\n",
              "      <td>Grey</td>\n",
              "    </tr>\n",
              "  </tbody>\n",
              "</table>\n",
              "</div>"
            ],
            "text/plain": [
              "    Data Venda Data Envio  ID Loja  ...     Marca   Classe    Cor\n",
              "599 2008-01-02 2008-01-12      306  ...  Fabrikam  Regular  Black\n",
              "573 2008-01-04 2008-01-14      306  ...  Fabrikam  Regular  White\n",
              "845 2008-01-04 2008-01-14      306  ...  Fabrikam  Regular   Grey\n",
              "554 2008-01-12 2008-01-22      306  ...  Fabrikam  Regular   Grey\n",
              "655 2008-01-20 2008-01-30      199  ...  Fabrikam  Regular   Grey\n",
              "\n",
              "[5 rows x 16 columns]"
            ]
          },
          "metadata": {},
          "execution_count": 172
        }
      ]
    },
    {
      "cell_type": "markdown",
      "metadata": {
        "id": "AB7DrpGgr4xT"
      },
      "source": [
        "**Relatório anual de faturamento e lucro por loja (ID Loja)**"
      ]
    },
    {
      "cell_type": "code",
      "metadata": {
        "id": "z6M58kKDjgdX"
      },
      "source": [
        "# cria coluna contendo o lucro de cada venda\n",
        "df[\"Lucro\"] = df[\"Valor Venda\"]-(df[\"Custo Unitário\"]*df[\"Quantidade\"])"
      ],
      "execution_count": 173,
      "outputs": []
    },
    {
      "cell_type": "code",
      "metadata": {
        "colab": {
          "base_uri": "https://localhost:8080/"
        },
        "id": "B-b8ZQ_Sr6Va",
        "outputId": "6b683077-7257-4734-e744-ae2a21f28d97"
      },
      "source": [
        "# conta número de lojas, cuja performance de vendas será comparada\n",
        "pd.unique(df[\"ID Loja\"]).shape"
      ],
      "execution_count": 174,
      "outputs": [
        {
          "output_type": "execute_result",
          "data": {
            "text/plain": [
              "(3,)"
            ]
          },
          "metadata": {},
          "execution_count": 174
        }
      ]
    },
    {
      "cell_type": "code",
      "metadata": {
        "colab": {
          "base_uri": "https://localhost:8080/",
          "height": 248
        },
        "id": "CLtoZDrCnZhg",
        "outputId": "02d8224e-bf54-44b4-b79c-3ec3ff24cd04"
      },
      "source": [
        "# gráfico de pizza comparando o faturamento bruto por ano\n",
        "df.groupby(df[\"Data Venda\"].dt.year)[\"Valor Venda\"].sum().plot.pie();"
      ],
      "execution_count": 175,
      "outputs": [
        {
          "output_type": "display_data",
          "data": {
            "image/png": "[encoded data removed]",
            "text/plain": [
              "<Figure size 432x288 with 1 Axes>"
            ]
          },
          "metadata": {}
        }
      ]
    },
    {
      "cell_type": "code",
      "metadata": {
        "colab": {
          "base_uri": "https://localhost:8080/",
          "height": 248
        },
        "id": "F6m-xo9MoTdS",
        "outputId": "5ce8085a-fc7a-4f96-b9ea-8599478e0c9a"
      },
      "source": [
        "# gráfico de pizza comparando o lucro total por ano\n",
        "df.groupby(df[\"Data Venda\"].dt.year)[\"Lucro\"].sum().plot.pie();"
      ],
      "execution_count": 176,
      "outputs": [
        {
          "output_type": "display_data",
          "data": {
            "image/png": "[encoded data removed]",
            "text/plain": [
              "<Figure size 432x288 with 1 Axes>"
            ]
          },
          "metadata": {}
        }
      ]
    },
    {
      "cell_type": "code",
      "metadata": {
        "colab": {
          "base_uri": "https://localhost:8080/"
        },
        "id": "n2vEr2vSs-5Y",
        "outputId": "e8bc7ffd-4ab2-4bab-b6aa-e3e4dbaae989"
      },
      "source": [
        "# cria dois filtros para separar a chamada dos relatórios de 2008 e 2009, respectivamente\n",
        "# faturamento anual\n",
        "filtro1 = df.loc[df[\"Data Venda\"].dt.year == 2008]\n",
        "filtro2 = df.loc[df[\"Data Venda\"].dt.year == 2009]\n",
        "\n",
        "df_fat1 = filtro1.groupby(\"ID Loja\")[\"Valor Venda\"].sum()\n",
        "df_fat1.name = \"Faturamento por loja em 2008\"\n",
        "\n",
        "df_fat2 = filtro2.groupby(\"ID Loja\")[\"Valor Venda\"].sum()\n",
        "df_fat2.name = \"Faturamento por loja em 2009\"\n",
        "print(df_fat1, \"\\n\", df_fat2)\n",
        "# visualisa os faturamentos em valores"
      ],
      "execution_count": 177,
      "outputs": [
        {
          "output_type": "stream",
          "name": "stdout",
          "text": [
            "ID Loja\n",
            "199    1205563.51\n",
            "306     973490.77\n",
            "307    1008553.29\n",
            "Name: Faturamento por loja em 2008, dtype: float64 \n",
            " ID Loja\n",
            "199     975540.56\n",
            "306     750362.81\n",
            "307    1071095.11\n",
            "Name: Faturamento por loja em 2009, dtype: float64\n"
          ]
        }
      ]
    },
    {
      "cell_type": "code",
      "metadata": {
        "colab": {
          "base_uri": "https://localhost:8080/"
        },
        "id": "ppvGWTKJtp-j",
        "outputId": "5fcf8788-e1e4-4d31-a4e2-4fbbfe3f7cc8"
      },
      "source": [
        "# lucro anual\n",
        "df_lucro1 = filtro1.groupby(\"ID Loja\")[\"Lucro\"].sum()\n",
        "df_lucro1.name = \"Lucro por loja em 2008\"\n",
        "\n",
        "df_lucro2 = filtro2.groupby(\"ID Loja\")[\"Lucro\"].sum()\n",
        "df_lucro2.name = \"Lucro por loja em 2009\"\n",
        "print(df_lucro1, \"\\n\", df_lucro2)\n",
        "# visualisa os lucros em valores"
      ],
      "execution_count": 178,
      "outputs": [
        {
          "output_type": "stream",
          "name": "stdout",
          "text": [
            "ID Loja\n",
            "199    738540.76\n",
            "306    593037.45\n",
            "307    588499.42\n",
            "Name: Lucro por loja em 2008, dtype: float64 \n",
            " ID Loja\n",
            "199    556177.73\n",
            "306    423455.64\n",
            "307    598112.00\n",
            "Name: Lucro por loja em 2009, dtype: float64\n"
          ]
        }
      ]
    },
    {
      "cell_type": "code",
      "metadata": {
        "colab": {
          "base_uri": "https://localhost:8080/",
          "height": 295
        },
        "id": "sFYa6RP8uC_H",
        "outputId": "06622af0-2914-4bcb-bee8-476b3c8a66d6"
      },
      "source": [
        "# gráfico de barras com o stack lucro/faturamento\n",
        "label = list(set(df['ID Loja'].astype(str))) #converte ID da loja para string\n",
        "\n",
        "# 2008\n",
        "fig, ax = plt.subplots()\n",
        "\n",
        "ax.bar(label, df_fat1.sort_values(), label='Faturamento', color='#C0C0C0')\n",
        "ax.bar(label, df_lucro1, label='Lucro', color='#6B8E23')\n",
        "\n",
        "ax.set_title('Faturamento e Lucro por Loja em 2008')\n",
        "ax.set_xlabel(\"ID Loja\")\n",
        "ax.set_ylabel('Reais (mi)')\n",
        "ax.legend();"
      ],
      "execution_count": 179,
      "outputs": [
        {
          "output_type": "display_data",
          "data": {
            "image/png": "[encoded data removed]",
            "text/plain": [
              "<Figure size 432x288 with 1 Axes>"
            ]
          },
          "metadata": {
            "needs_background": "light"
          }
        }
      ]
    },
    {
      "cell_type": "code",
      "metadata": {
        "colab": {
          "base_uri": "https://localhost:8080/",
          "height": 295
        },
        "id": "1_2r92WxiLNA",
        "outputId": "916afbff-eecb-4b18-dfe1-40fc491e342d"
      },
      "source": [
        "# 2009\n",
        "fig, ax = plt.subplots()\n",
        "\n",
        "ax.bar(label, df_fat2.sort_values(), label='Faturamento', color='#C0C0C0')\n",
        "ax.bar(label, df_lucro2, label='Lucro', color='#6B8E23')\n",
        "\n",
        "ax.set_title('Faturamento e Lucro por Loja em 2009')\n",
        "ax.set_xlabel(\"ID Loja\")\n",
        "ax.set_ylabel('Reais (mi)')\n",
        "ax.legend();"
      ],
      "execution_count": 180,
      "outputs": [
        {
          "output_type": "display_data",
          "data": {
            "image/png": "[encoded data removed]",
            "text/plain": [
              "<Figure size 432x288 with 1 Axes>"
            ]
          },
          "metadata": {
            "needs_background": "light"
          }
        }
      ]
    },
    {
      "cell_type": "code",
      "metadata": {
        "colab": {
          "base_uri": "https://localhost:8080/"
        },
        "id": "L_Y5rJM9wWw5",
        "outputId": "87b8fb42-8461-42fe-b6ed-63d8a62ace65"
      },
      "source": [
        "# analisa os produtos que deram maior lucro no biênio\n",
        "df_lucroByprod = df.groupby(\"Produto\")[\"Lucro\"].sum()\n",
        "df_lucroByprod"
      ],
      "execution_count": 181,
      "outputs": [
        {
          "output_type": "execute_result",
          "data": {
            "text/plain": [
              "Produto\n",
              "Adventure Works Laptop15.4W M1548 Black            367185.56\n",
              "Adventure Works Laptop15.4W M1548 Red              344850.68\n",
              "Fabrikam Trendsetter 1/3'' 8.5mm X200 Black        507214.23\n",
              "Fabrikam Trendsetter 1/3'' 8.5mm X200 Grey         501926.50\n",
              "Fabrikam Trendsetter 1/3'' 8.5mm X200 White        453138.34\n",
              "Fabrikam Trendsetter 2/3'' 17mm X100 Black         520733.86\n",
              "Fabrikam Trendsetter 2/3'' 17mm X100 Grey          608098.97\n",
              "Headphone Adapter for Contoso Phone E130 Silver     98160.46\n",
              "Headphone Adapter for Contoso Phone E130 White      96514.40\n",
              "Name: Lucro, dtype: float64"
            ]
          },
          "metadata": {},
          "execution_count": 181
        }
      ]
    },
    {
      "cell_type": "code",
      "metadata": {
        "colab": {
          "base_uri": "https://localhost:8080/",
          "height": 295
        },
        "id": "BHTJxEAOxJNT",
        "outputId": "3d18e732-16d9-4eb8-ed79-c2370d2e9e6c"
      },
      "source": [
        "# gráfico de barras horizontal rankeando o lucro por produto no biênio\n",
        "fig, ax = plt.subplots()\n",
        "df_lucroByprod.sort_values().plot.barh(color='#6B8E23')\n",
        "ax.set_xlabel(\"(R$)\")\n",
        "ax.set_title('Soma do Lucro por Produto em 2008 e 2009');\n",
        "#ax.legend();"
      ],
      "execution_count": 182,
      "outputs": [
        {
          "output_type": "display_data",
          "data": {
            "image/png": "[encoded data removed]",
            "text/plain": [
              "<Figure size 432x288 with 1 Axes>"
            ]
          },
          "metadata": {
            "needs_background": "light"
          }
        }
      ]
    },
    {
      "cell_type": "markdown",
      "metadata": {
        "id": "Fr60MozSVWBX"
      },
      "source": [
        "**Identifica problemas de despacho dos produtos analisando outliers**"
      ]
    },
    {
      "cell_type": "code",
      "metadata": {
        "colab": {
          "base_uri": "https://localhost:8080/",
          "height": 526
        },
        "id": "fYri7ZUpVcXg",
        "outputId": "111af9a3-cbab-436e-9362-f125f3e327ea"
      },
      "source": [
        "# crida dataframe contendo apenas datas\n",
        "df_days = df[[\"Data Venda\", \"Data Envio\"]]\n",
        "df_days[\"Despacho\"] = df_days[\"Data Envio\"] - df_days[\"Data Venda\"]\n",
        "df_days"
      ],
      "execution_count": 183,
      "outputs": [
        {
          "output_type": "stream",
          "name": "stderr",
          "text": [
            "/usr/local/lib/python3.7/dist-packages/ipykernel_launcher.py:3: SettingWithCopyWarning: \n",
            "A value is trying to be set on a copy of a slice from a DataFrame.\n",
            "Try using .loc[row_indexer,col_indexer] = value instead\n",
            "\n",
            "See the caveats in the documentation: https://pandas.pydata.org/pandas-docs/stable/user_guide/indexing.html#returning-a-view-versus-a-copy\n",
            "  This is separate from the ipykernel package so we can avoid doing imports until\n"
          ]
        },
        {
          "output_type": "execute_result",
          "data": {
            "text/html": [
              "<div>\n",
              "<style scoped>\n",
              "    .dataframe tbody tr th:only-of-type {\n",
              "        vertical-align: middle;\n",
              "    }\n",
              "\n",
              "    .dataframe tbody tr th {\n",
              "        vertical-align: top;\n",
              "    }\n",
              "\n",
              "    .dataframe thead th {\n",
              "        text-align: right;\n",
              "    }\n",
              "</style>\n",
              "<table border=\"1\" class=\"dataframe\">\n",
              "  <thead>\n",
              "    <tr style=\"text-align: right;\">\n",
              "      <th></th>\n",
              "      <th>Data Venda</th>\n",
              "      <th>Data Envio</th>\n",
              "      <th>Despacho</th>\n",
              "    </tr>\n",
              "  </thead>\n",
              "  <tbody>\n",
              "    <tr>\n",
              "      <th>0</th>\n",
              "      <td>2008-05-09</td>\n",
              "      <td>2008-05-29</td>\n",
              "      <td>20 days</td>\n",
              "    </tr>\n",
              "    <tr>\n",
              "      <th>1</th>\n",
              "      <td>2008-05-12</td>\n",
              "      <td>2008-05-17</td>\n",
              "      <td>5 days</td>\n",
              "    </tr>\n",
              "    <tr>\n",
              "      <th>2</th>\n",
              "      <td>2008-05-14</td>\n",
              "      <td>2008-05-20</td>\n",
              "      <td>6 days</td>\n",
              "    </tr>\n",
              "    <tr>\n",
              "      <th>3</th>\n",
              "      <td>2008-05-21</td>\n",
              "      <td>2008-05-27</td>\n",
              "      <td>6 days</td>\n",
              "    </tr>\n",
              "    <tr>\n",
              "      <th>4</th>\n",
              "      <td>2008-06-20</td>\n",
              "      <td>2008-06-27</td>\n",
              "      <td>7 days</td>\n",
              "    </tr>\n",
              "    <tr>\n",
              "      <th>...</th>\n",
              "      <td>...</td>\n",
              "      <td>...</td>\n",
              "      <td>...</td>\n",
              "    </tr>\n",
              "    <tr>\n",
              "      <th>899</th>\n",
              "      <td>2008-03-22</td>\n",
              "      <td>2008-04-04</td>\n",
              "      <td>13 days</td>\n",
              "    </tr>\n",
              "    <tr>\n",
              "      <th>900</th>\n",
              "      <td>2008-10-04</td>\n",
              "      <td>2008-10-15</td>\n",
              "      <td>11 days</td>\n",
              "    </tr>\n",
              "    <tr>\n",
              "      <th>901</th>\n",
              "      <td>2008-12-11</td>\n",
              "      <td>2008-12-15</td>\n",
              "      <td>4 days</td>\n",
              "    </tr>\n",
              "    <tr>\n",
              "      <th>902</th>\n",
              "      <td>2008-12-17</td>\n",
              "      <td>2008-12-21</td>\n",
              "      <td>4 days</td>\n",
              "    </tr>\n",
              "    <tr>\n",
              "      <th>903</th>\n",
              "      <td>2008-12-21</td>\n",
              "      <td>2008-12-25</td>\n",
              "      <td>4 days</td>\n",
              "    </tr>\n",
              "  </tbody>\n",
              "</table>\n",
              "<p>904 rows × 3 columns</p>\n",
              "</div>"
            ],
            "text/plain": [
              "    Data Venda Data Envio Despacho\n",
              "0   2008-05-09 2008-05-29  20 days\n",
              "1   2008-05-12 2008-05-17   5 days\n",
              "2   2008-05-14 2008-05-20   6 days\n",
              "3   2008-05-21 2008-05-27   6 days\n",
              "4   2008-06-20 2008-06-27   7 days\n",
              "..         ...        ...      ...\n",
              "899 2008-03-22 2008-04-04  13 days\n",
              "900 2008-10-04 2008-10-15  11 days\n",
              "901 2008-12-11 2008-12-15   4 days\n",
              "902 2008-12-17 2008-12-21   4 days\n",
              "903 2008-12-21 2008-12-25   4 days\n",
              "\n",
              "[904 rows x 3 columns]"
            ]
          },
          "metadata": {},
          "execution_count": 183
        }
      ]
    },
    {
      "cell_type": "code",
      "metadata": {
        "colab": {
          "base_uri": "https://localhost:8080/"
        },
        "id": "qyTiG4eQa-yx",
        "outputId": "a2a8c3a6-5bb0-4a71-ba36-d98faaf0266f"
      },
      "source": [
        "# analisa estatística\n",
        "df_days[\"Despacho\"].dt.days.describe()"
      ],
      "execution_count": 184,
      "outputs": [
        {
          "output_type": "execute_result",
          "data": {
            "text/plain": [
              "count    904.000000\n",
              "mean       8.543142\n",
              "std        3.056920\n",
              "min        4.000000\n",
              "25%        6.000000\n",
              "50%        9.000000\n",
              "75%       11.000000\n",
              "max       20.000000\n",
              "Name: Despacho, dtype: float64"
            ]
          },
          "metadata": {},
          "execution_count": 184
        }
      ]
    },
    {
      "cell_type": "code",
      "metadata": {
        "colab": {
          "base_uri": "https://localhost:8080/",
          "height": 265
        },
        "id": "6sOuf9Sio480",
        "outputId": "e8146348-b986-460b-c5f9-2e8d530f2255"
      },
      "source": [
        "plt.boxplot(df_days[\"Despacho\"].dt.days, vert=False);"
      ],
      "execution_count": 185,
      "outputs": [
        {
          "output_type": "display_data",
          "data": {
            "image/png": "[encoded data removed]",
            "text/plain": [
              "<Figure size 432x288 with 1 Axes>"
            ]
          },
          "metadata": {
            "needs_background": "light"
          }
        }
      ]
    },
    {
      "cell_type": "code",
      "metadata": {
        "id": "dWrwciA2kto7"
      },
      "source": [
        "# foi identificado apenas 1 outlier no conjunto de dados\n",
        "#df_days[df_days[\"Despacho\"].dt.days >= 20][\"Despacho\"].count()\n",
        "outlier = df_days.loc[df_days[\"Despacho\"].dt.days == 20].index"
      ],
      "execution_count": 186,
      "outputs": []
    },
    {
      "cell_type": "code",
      "metadata": {
        "colab": {
          "base_uri": "https://localhost:8080/",
          "height": 170
        },
        "id": "2k6fuGf39qu9",
        "outputId": "eae9401f-16a6-4967-e406-cdcba4fbc2f0"
      },
      "source": [
        "df.iloc[outlier]"
      ],
      "execution_count": 187,
      "outputs": [
        {
          "output_type": "execute_result",
          "data": {
            "text/html": [
              "<div>\n",
              "<style scoped>\n",
              "    .dataframe tbody tr th:only-of-type {\n",
              "        vertical-align: middle;\n",
              "    }\n",
              "\n",
              "    .dataframe tbody tr th {\n",
              "        vertical-align: top;\n",
              "    }\n",
              "\n",
              "    .dataframe thead th {\n",
              "        text-align: right;\n",
              "    }\n",
              "</style>\n",
              "<table border=\"1\" class=\"dataframe\">\n",
              "  <thead>\n",
              "    <tr style=\"text-align: right;\">\n",
              "      <th></th>\n",
              "      <th>Data Venda</th>\n",
              "      <th>Data Envio</th>\n",
              "      <th>ID Loja</th>\n",
              "      <th>ID Produto</th>\n",
              "      <th>ID Cliente</th>\n",
              "      <th>No. Venda</th>\n",
              "      <th>Custo Unitário</th>\n",
              "      <th>Preço Unitário</th>\n",
              "      <th>Quantidade</th>\n",
              "      <th>Valor Desconto</th>\n",
              "      <th>Valor Venda</th>\n",
              "      <th>Produto</th>\n",
              "      <th>Fabricante</th>\n",
              "      <th>Marca</th>\n",
              "      <th>Classe</th>\n",
              "      <th>Cor</th>\n",
              "      <th>Lucro</th>\n",
              "    </tr>\n",
              "  </thead>\n",
              "  <tbody>\n",
              "    <tr>\n",
              "      <th>0</th>\n",
              "      <td>2008-05-09</td>\n",
              "      <td>2008-05-29</td>\n",
              "      <td>199</td>\n",
              "      <td>384</td>\n",
              "      <td>18839</td>\n",
              "      <td>200805093CS607</td>\n",
              "      <td>348.58</td>\n",
              "      <td>758.0</td>\n",
              "      <td>6</td>\n",
              "      <td>0.0</td>\n",
              "      <td>4548.0</td>\n",
              "      <td>Adventure Works Laptop15.4W M1548 Red</td>\n",
              "      <td>Adventure Works</td>\n",
              "      <td>Adventure Works</td>\n",
              "      <td>Regular</td>\n",
              "      <td>Red</td>\n",
              "      <td>2456.52</td>\n",
              "    </tr>\n",
              "  </tbody>\n",
              "</table>\n",
              "</div>"
            ],
            "text/plain": [
              "  Data Venda Data Envio  ID Loja  ...   Classe  Cor    Lucro\n",
              "0 2008-05-09 2008-05-29      199  ...  Regular  Red  2456.52\n",
              "\n",
              "[1 rows x 17 columns]"
            ]
          },
          "metadata": {},
          "execution_count": 187
        }
      ]
    }
  ]
}